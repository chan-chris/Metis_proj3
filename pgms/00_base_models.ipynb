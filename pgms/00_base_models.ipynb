{
 "cells": [
  {
   "cell_type": "markdown",
   "metadata": {},
   "source": [
    "**program:** x_base_models<br>\n",
    "**author:** chris chan<br>\n",
    "**date:** jan 27,2021<br>\n",
    "**desc:** Create baseline models using clean DF. No crossvalidation from these models are performed <br>\n",
    "\n",
    "**datasources:**<br>\n",
    "- sb_analytic (balanced df thru 2010)\n",
    "- billboard analytic (hot 100 thru 2019)\n",
    "- spotify random (random thru 2020)\n",
    "\n",
    "- decision trees : https://towardsdatascience.com/light-on-math-machine-learning-intuitive-guide-to-understanding-decision-trees-adb2165ccab7\n",
    "- gridsearch cv: https://towardsdatascience.com/understanding-decision-tree-classification-with-scikit-learn-2ddf272731bd\n",
    "- random forest : https://towardsdatascience.com/an-implementation-and-explanation-of-the-random-forest-in-python-77bf308a9b76\n",
    "- model eval : https://towardsdatascience.com/how-to-best-evaluate-a-classification-model-2edb12bcc587"
   ]
  },
  {
   "cell_type": "code",
   "execution_count": 1,
   "metadata": {},
   "outputs": [],
   "source": [
    "from importlib import reload\n",
    "import pandas as pd\n",
    "import numpy as np\n",
    "import scipy.stats as st\n",
    "import matplotlib.pyplot as plt\n",
    "import seaborn as sns\n",
    "from collections import OrderedDict\n",
    "from sklearn.linear_model import LogisticRegression\n",
    "from sklearn.model_selection import train_test_split\n",
    "from sklearn.metrics import f1_score\n",
    "from sklearn.metrics import roc_auc_score, confusion_matrix, roc_curve\n",
    "from sklearn.metrics import precision_score, recall_score, precision_recall_curve,f1_score, fbeta_score, accuracy_score\n",
    "\n",
    "# roc curve and auc\n",
    "from sklearn.datasets import make_classification\n",
    "from sklearn.linear_model import LogisticRegression\n",
    "from sklearn.model_selection import train_test_split\n",
    "from sklearn.metrics import roc_curve\n",
    "from sklearn.metrics import roc_auc_score\n",
    "from matplotlib import pyplot\n",
    "\n",
    "%config InlineBackend.figure_formats = ['svg']\n",
    "%matplotlib inline\n",
    "\n",
    "plt.rcParams['figure.figsize'] = (9, 6)\n",
    "sns.set(context='notebook', style='whitegrid', font_scale=1.2)"
   ]
  },
  {
   "cell_type": "code",
   "execution_count": 2,
   "metadata": {},
   "outputs": [],
   "source": [
    "import matplotlib.cm as cm\n",
    "import random\n",
    "\n",
    "from sklearn.tree import DecisionTreeClassifier\n",
    "from sklearn.svm import LinearSVC\n",
    "from sklearn.svm import SVC\n",
    "from sklearn.ensemble import RandomForestClassifier"
   ]
  },
  {
   "cell_type": "code",
   "execution_count": 3,
   "metadata": {},
   "outputs": [],
   "source": [
    "from sqlalchemy import create_engine\n",
    "import pandas as pd"
   ]
  },
  {
   "cell_type": "code",
   "execution_count": 4,
   "metadata": {},
   "outputs": [],
   "source": [
    "from sklearn.model_selection import train_test_split"
   ]
  },
  {
   "cell_type": "markdown",
   "metadata": {},
   "source": [
    "**1. Bring in data**"
   ]
  },
  {
   "cell_type": "code",
   "execution_count": 5,
   "metadata": {},
   "outputs": [
    {
     "data": {
      "text/html": [
       "<div>\n",
       "<style scoped>\n",
       "    .dataframe tbody tr th:only-of-type {\n",
       "        vertical-align: middle;\n",
       "    }\n",
       "\n",
       "    .dataframe tbody tr th {\n",
       "        vertical-align: top;\n",
       "    }\n",
       "\n",
       "    .dataframe thead th {\n",
       "        text-align: right;\n",
       "    }\n",
       "</style>\n",
       "<table border=\"1\" class=\"dataframe\">\n",
       "  <thead>\n",
       "    <tr style=\"text-align: right;\">\n",
       "      <th></th>\n",
       "      <th>SpotifyID</th>\n",
       "      <th>danceability</th>\n",
       "      <th>energy</th>\n",
       "      <th>key</th>\n",
       "      <th>mode</th>\n",
       "      <th>speechiness</th>\n",
       "      <th>acousticness</th>\n",
       "      <th>instrumentalness</th>\n",
       "      <th>liveness</th>\n",
       "      <th>valence</th>\n",
       "      <th>tempo</th>\n",
       "      <th>duration_ms</th>\n",
       "      <th>loudness</th>\n",
       "      <th>is_hit</th>\n",
       "      <th>year</th>\n",
       "    </tr>\n",
       "  </thead>\n",
       "  <tbody>\n",
       "    <tr>\n",
       "      <th>0</th>\n",
       "      <td>285pBltuF7vW8TeWk8hdRR</td>\n",
       "      <td>0.511</td>\n",
       "      <td>0.566</td>\n",
       "      <td>6</td>\n",
       "      <td>0</td>\n",
       "      <td>0.200</td>\n",
       "      <td>0.3490</td>\n",
       "      <td>0.0</td>\n",
       "      <td>0.340</td>\n",
       "      <td>0.218</td>\n",
       "      <td>83.903</td>\n",
       "      <td>239836</td>\n",
       "      <td>-7.230</td>\n",
       "      <td>1</td>\n",
       "      <td>2018.0</td>\n",
       "    </tr>\n",
       "    <tr>\n",
       "      <th>1</th>\n",
       "      <td>7dt6x5M1jzdTEt8oCbisTK</td>\n",
       "      <td>0.680</td>\n",
       "      <td>0.578</td>\n",
       "      <td>10</td>\n",
       "      <td>1</td>\n",
       "      <td>0.040</td>\n",
       "      <td>0.3310</td>\n",
       "      <td>0.0</td>\n",
       "      <td>0.135</td>\n",
       "      <td>0.341</td>\n",
       "      <td>145.038</td>\n",
       "      <td>231267</td>\n",
       "      <td>-5.804</td>\n",
       "      <td>1</td>\n",
       "      <td>2018.0</td>\n",
       "    </tr>\n",
       "    <tr>\n",
       "      <th>2</th>\n",
       "      <td>78QR3Wp35dqAhFEc2qAGjE</td>\n",
       "      <td>0.897</td>\n",
       "      <td>0.662</td>\n",
       "      <td>1</td>\n",
       "      <td>0</td>\n",
       "      <td>0.292</td>\n",
       "      <td>0.0852</td>\n",
       "      <td>0.0</td>\n",
       "      <td>0.534</td>\n",
       "      <td>0.389</td>\n",
       "      <td>112.511</td>\n",
       "      <td>145543</td>\n",
       "      <td>-6.903</td>\n",
       "      <td>1</td>\n",
       "      <td>2019.0</td>\n",
       "    </tr>\n",
       "  </tbody>\n",
       "</table>\n",
       "</div>"
      ],
      "text/plain": [
       "                SpotifyID  danceability  energy  key  mode  speechiness  \\\n",
       "0  285pBltuF7vW8TeWk8hdRR         0.511   0.566    6     0        0.200   \n",
       "1  7dt6x5M1jzdTEt8oCbisTK         0.680   0.578   10     1        0.040   \n",
       "2  78QR3Wp35dqAhFEc2qAGjE         0.897   0.662    1     0        0.292   \n",
       "\n",
       "   acousticness  instrumentalness  liveness  valence    tempo  duration_ms  \\\n",
       "0        0.3490               0.0     0.340    0.218   83.903       239836   \n",
       "1        0.3310               0.0     0.135    0.341  145.038       231267   \n",
       "2        0.0852               0.0     0.534    0.389  112.511       145543   \n",
       "\n",
       "   loudness  is_hit    year  \n",
       "0    -7.230       1  2018.0  \n",
       "1    -5.804       1  2018.0  \n",
       "2    -6.903       1  2019.0  "
      ]
     },
     "execution_count": 5,
     "metadata": {},
     "output_type": "execute_result"
    }
   ],
   "source": [
    "sbdf=pd.read_csv(r'../data/clean/sbdf_clean.csv')\n",
    "sbdf.head(3)"
   ]
  },
  {
   "cell_type": "code",
   "execution_count": 6,
   "metadata": {},
   "outputs": [],
   "source": [
    "sbdf = sbdf[sbdf['year'] >= 1960] "
   ]
  },
  {
   "cell_type": "code",
   "execution_count": 7,
   "metadata": {},
   "outputs": [],
   "source": [
    "sbdf.columns = map(str.lower, sbdf.columns)"
   ]
  },
  {
   "cell_type": "code",
   "execution_count": 8,
   "metadata": {},
   "outputs": [],
   "source": [
    "sbdf['decade'] = (sbdf.year//10*10).astype(int)"
   ]
  },
  {
   "cell_type": "code",
   "execution_count": 9,
   "metadata": {},
   "outputs": [
    {
     "data": {
      "text/plain": [
       "2000    6239\n",
       "1990    3864\n",
       "2010    3829\n",
       "1980      91\n",
       "1960       8\n",
       "1970       4\n",
       "Name: decade, dtype: int64"
      ]
     },
     "execution_count": 9,
     "metadata": {},
     "output_type": "execute_result"
    }
   ],
   "source": [
    "sbdf.decade.value_counts()"
   ]
  },
  {
   "cell_type": "code",
   "execution_count": 10,
   "metadata": {},
   "outputs": [],
   "source": [
    "sbdf = sbdf[sbdf['decade'] >= 1990] "
   ]
  },
  {
   "cell_type": "code",
   "execution_count": 11,
   "metadata": {},
   "outputs": [],
   "source": [
    "sbdf['track_seconds'] = sbdf['duration_ms'] / 1000"
   ]
  },
  {
   "cell_type": "code",
   "execution_count": 12,
   "metadata": {},
   "outputs": [
    {
     "data": {
      "text/plain": [
       "Index(['spotifyid', 'danceability', 'energy', 'key', 'mode', 'speechiness',\n",
       "       'acousticness', 'instrumentalness', 'liveness', 'valence', 'tempo',\n",
       "       'duration_ms', 'loudness', 'is_hit', 'year', 'decade', 'track_seconds'],\n",
       "      dtype='object')"
      ]
     },
     "execution_count": 12,
     "metadata": {},
     "output_type": "execute_result"
    }
   ],
   "source": [
    "sbdf.columns"
   ]
  },
  {
   "cell_type": "markdown",
   "metadata": {},
   "source": [
    "**Build models**"
   ]
  },
  {
   "cell_type": "code",
   "execution_count": 16,
   "metadata": {},
   "outputs": [
    {
     "name": "stderr",
     "output_type": "stream",
     "text": [
      "/opt/anaconda3/lib/python3.8/site-packages/sklearn/linear_model/_logistic.py:762: ConvergenceWarning: lbfgs failed to converge (status=1):\n",
      "STOP: TOTAL NO. of ITERATIONS REACHED LIMIT.\n",
      "\n",
      "Increase the number of iterations (max_iter) or scale the data as shown in:\n",
      "    https://scikit-learn.org/stable/modules/preprocessing.html\n",
      "Please also refer to the documentation for alternative solver options:\n",
      "    https://scikit-learn.org/stable/modules/linear_model.html#logistic-regression\n",
      "  n_iter_i = _check_optimize_result(\n"
     ]
    },
    {
     "name": "stdout",
     "output_type": "stream",
     "text": [
      "Precision SCORES \n",
      " KNN: 0.7159940209267563 \n",
      " LR: 0.7572254335260116 \n",
      " TREE: 0.7648827420324714 \n",
      " FOREST: 0.7936425221469515 \n",
      " GRAD: 0.7975522692503825\n",
      "Recall SCORES \n",
      " KNN: 0.8403508771929824 \n",
      " LR: 0.9192982456140351 \n",
      " TREE: 0.743859649122807 \n",
      " FOREST: 0.8906432748538011 \n",
      " GRAD: 0.9146198830409357\n",
      "F1 SCORES \n",
      " KNN: 0.7732041969330105 \n",
      " LR: 0.8304278922345484 \n",
      " TREE: 0.7542247257634154 \n",
      " FOREST: 0.8393496831082944 \n",
      " GRAD: 0.8520839008444566\n",
      "ACCURACY SCORES \n",
      " KNN: 0.697524219590958 \n",
      " LR: 0.7696447793326158 \n",
      " TREE: 0.7025475421600287 \n",
      " FOREST: 0.7908144958736993 \n",
      " GRAD: 0.8051668460710442\n",
      "AUC SCORES \n",
      " KNN: 0.6849693484717675 \n",
      " LR: 0.818562500339366 \n",
      " TREE: 0.6904070761862875 \n",
      " FOREST: 0.8388753142528249 \n",
      " GRAD: 0.8530800849229233\n"
     ]
    }
   ],
   "source": [
    "import pandas as pd\n",
    "import numpy as np\n",
    "import matplotlib\n",
    "matplotlib.use('Agg')\n",
    "import pylab\n",
    "from sklearn import svm\n",
    "from sklearn.tree import DecisionTreeClassifier\n",
    "from sklearn.neighbors import KNeighborsClassifier\n",
    "from sklearn.ensemble import RandomForestClassifier, GradientBoostingClassifier\n",
    "from sklearn.model_selection import train_test_split, cross_val_score, GridSearchCV\n",
    "from sklearn.metrics import roc_curve, auc, confusion_matrix, classification_report, precision_score, recall_score, f1_score, accuracy_score\n",
    "\n",
    "# Quickly plot ROC Curve and calculate AUC score for several algorithms to determine the best model\n",
    "\n",
    "\n",
    "# Establishing X and y\n",
    "y = sbdf['is_hit']\n",
    "X = sbdf.drop(columns = ['is_hit','spotifyid','decade','year','duration_ms'])\n",
    "\n",
    "# Train test split\n",
    "X_train, X_test, y_train, y_test = train_test_split(X, y, test_size = 0.2, random_state = 42, stratify = y)\n",
    "\n",
    "X2_train, X2_test,  y2_train,y2_test = train_test_split(X_train,y_train, test_size = 0.25, random_state = 42)\n",
    "\n",
    "\n",
    "# KNN\n",
    "knn = KNeighborsClassifier(n_neighbors=5)\n",
    "knn.fit(X2_train, y2_train)\n",
    "knn_ypred = knn.predict(X2_test)\n",
    "knn_proba = knn.predict_proba(X2_test)[:,1]\n",
    "fpr_knn, tpr_knn, _ = roc_curve(y2_test, knn_proba)\n",
    "knn_auc = auc(fpr_knn, tpr_knn)\n",
    "knn_f1 = f1_score(y2_test, knn_ypred)\n",
    "knn_prec = precision_score(y2_test, knn_ypred)\n",
    "knn_recall = recall_score(y2_test, knn_ypred)\n",
    "knn_accuracy = accuracy_score(y2_test, knn_ypred)\n",
    "\n",
    "#LR\n",
    "lr = LogisticRegression(C = 0.5  )\n",
    "lr.fit(X2_train,y2_train)\n",
    "lr_ypred = lr.predict(X2_test)\n",
    "lr_proba = lr.predict_proba(X2_test)[:,1]\n",
    "fpr_lr, tpr_lr, _ = roc_curve(y2_test, lr_proba)\n",
    "lr_auc = auc(fpr_lr, tpr_lr)\n",
    "lr_f1 = f1_score(y2_test, lr_ypred)\n",
    "lr_prec = precision_score(y2_test, lr_ypred)\n",
    "lr_recall = recall_score(y2_test, lr_ypred)\n",
    "lr_accuracy = accuracy_score(y2_test, lr_ypred)\n",
    "\n",
    "# Decision Tree\n",
    "tree = DecisionTreeClassifier()\n",
    "tree.fit(X2_train, y2_train)\n",
    "tree_ypred = tree.predict(X2_test)\n",
    "tree_proba = tree.predict_proba(X2_test)[:,1]\n",
    "fpr_tree, tpr_tree, _ = roc_curve(y2_test, tree_proba)\n",
    "tree_auc = auc(fpr_tree, tpr_tree)\n",
    "tree_f1 = f1_score(y2_test, tree_ypred)\n",
    "tree_prec = precision_score(y2_test, tree_ypred)\n",
    "tree_recall = recall_score(y2_test, tree_ypred)\n",
    "tree_accuracy = accuracy_score(y2_test, tree_ypred)\n",
    "\n",
    "\n",
    "# Random Forest\n",
    "forest = RandomForestClassifier(n_estimators=100, max_features=10)\n",
    "forest.fit(X2_train, y2_train)\n",
    "forest_ypred = forest.predict(X2_test)\n",
    "forest_proba = forest.predict_proba(X2_test)[:,1]\n",
    "fpr_rf, tpr_rf, _ = roc_curve(y2_test, forest_proba)\n",
    "forest_auc = auc(fpr_rf, tpr_rf)\n",
    "forest_f1 = f1_score(y2_test, forest_ypred)\n",
    "forest_prec = precision_score(y2_test, forest_ypred)\n",
    "forest_recall = recall_score(y2_test, forest_ypred)\n",
    "forest_accuracy = accuracy_score(y2_test, forest_ypred)\n",
    "\n",
    "# Gradient Boosting\n",
    "grad = GradientBoostingClassifier()\n",
    "grad.fit(X2_train, y2_train)\n",
    "grad_ypred = grad.predict(X2_test)\n",
    "grad_proba = grad.predict_proba(X2_test)[:,1]\n",
    "fpr_gb, tpr_gb, _ = roc_curve(y2_test, grad_proba)\n",
    "grad_auc = auc(fpr_gb, tpr_gb)\n",
    "grad_f1 = f1_score(y2_test, grad_ypred)\n",
    "grad_prec = precision_score(y2_test, grad_ypred)\n",
    "grad_recall = recall_score(y2_test, grad_ypred)\n",
    "grad_accuracy = accuracy_score(y2_test, grad_ypred)\n",
    "\n",
    "\n",
    "print('Precision SCORES',\n",
    "'\\n',\n",
    "'KNN:',knn_prec,\n",
    "'\\n',\n",
    "'LR:', lr_prec,\n",
    "'\\n',\n",
    "'TREE:',tree_prec,\n",
    "'\\n',\n",
    "'FOREST:',forest_prec,\n",
    "'\\n',\n",
    "'GRAD:',grad_prec)\n",
    "\n",
    "print('Recall SCORES',\n",
    "'\\n',\n",
    "'KNN:',knn_recall,\n",
    "'\\n',\n",
    "'LR:', lr_recall,\n",
    "'\\n',\n",
    "'TREE:',tree_recall,\n",
    "'\\n',\n",
    "'FOREST:',forest_recall,\n",
    "'\\n',\n",
    "'GRAD:',grad_recall)\n",
    "\n",
    "\n",
    "print('F1 SCORES',\n",
    "'\\n',\n",
    "'KNN:',knn_f1,\n",
    "'\\n',\n",
    "'LR:', lr_f1,\n",
    "'\\n',\n",
    "'TREE:',tree_f1,\n",
    "'\\n',\n",
    "'FOREST:',forest_f1,\n",
    "'\\n',\n",
    "'GRAD:',grad_f1)\n",
    "\n",
    "print('ACCURACY SCORES',\n",
    "'\\n',\n",
    "'KNN:',knn_accuracy,\n",
    "'\\n',\n",
    "'LR:', lr_accuracy,\n",
    "'\\n',\n",
    "'TREE:',tree_accuracy,\n",
    "'\\n',\n",
    "'FOREST:',forest_accuracy,\n",
    "'\\n',\n",
    "'GRAD:',grad_accuracy)\n",
    "\n",
    "print('AUC SCORES',\n",
    "'\\n',\n",
    "'KNN:',knn_auc,\n",
    "'\\n',\n",
    "'LR:',lr_auc,\n",
    "'\\n',\n",
    "'TREE:',tree_auc,\n",
    "'\\n',\n",
    "'FOREST:',forest_auc,\n",
    "'\\n',\n",
    "'GRAD:',grad_auc)\n",
    "\n",
    "\n",
    "# Gradient Boosting seems to work significantly better, so we'll tune the model using Gradient Boosting going forward\n",
    "\n",
    "pylab.figure(figsize=(10,10))\n",
    "pylab.plot(fpr_knn, tpr_knn, label='knn')\n",
    "pylab.plot(fpr_lr, tpr_lr, label='lr')\n",
    "pylab.plot(fpr_tree, tpr_tree, label='decision tree')\n",
    "pylab.plot(fpr_rf, tpr_rf, label='random forest')\n",
    "pylab.plot(fpr_gb, tpr_gb, label='gradient boosting')\n",
    "pylab.plot([0,1],[0,1], linestyle='dashed')\n",
    "pylab.xlabel('FPR', labelpad=10)\n",
    "pylab.ylabel('TPR',rotation=0, labelpad=15)\n",
    "pylab.legend(loc='upper left')\n",
    "pylab.title('ROC Curves')\n",
    "pylab.savefig('all_aucroc.png')"
   ]
  },
  {
   "cell_type": "code",
   "execution_count": null,
   "metadata": {},
   "outputs": [],
   "source": []
  }
 ],
 "metadata": {
  "kernelspec": {
   "display_name": "Python 3",
   "language": "python",
   "name": "python3"
  },
  "language_info": {
   "codemirror_mode": {
    "name": "ipython",
    "version": 3
   },
   "file_extension": ".py",
   "mimetype": "text/x-python",
   "name": "python",
   "nbconvert_exporter": "python",
   "pygments_lexer": "ipython3",
   "version": "3.8.5"
  }
 },
 "nbformat": 4,
 "nbformat_minor": 4
}
