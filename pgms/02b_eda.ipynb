{
 "cells": [
  {
   "cell_type": "markdown",
   "metadata": {},
   "source": [
    "### Perform EDA and analyze\n",
    "**program:** 02b_eda_hit <br>\n",
    "**author:** chris chan<br>\n",
    "**date:** jan 27,2021<br>\n",
    "**desc:** use spotify/bb data after cleaining and perform EDA<br>\n",
    "\n",
    "**datasources:**<br>\n",
    "- sb_analytic (balanced df thru 2010)\n",
    "- billboard analytic (hot 100 thru 2019)\n",
    "- spotify random (random thru 2020)"
   ]
  },
  {
   "cell_type": "code",
   "execution_count": null,
   "metadata": {},
   "outputs": [],
   "source": [
    "from importlib import reload\n",
    "import pandas as pd\n",
    "import numpy as np\n",
    "import scipy.stats as st\n",
    "import matplotlib.pyplot as plt\n",
    "import seaborn as sns\n",
    "from collections import OrderedDict\n",
    "from sklearn.linear_model import LogisticRegression\n",
    "from sklearn.model_selection import train_test_split\n",
    "from sklearn.metrics import f1_score\n",
    "\n",
    "%config InlineBackend.figure_formats = ['svg']\n",
    "%matplotlib inline\n",
    "\n",
    "plt.rcParams['figure.figsize'] = (9, 6)\n",
    "sns.set(context='notebook', style='whitegrid', font_scale=1.2)"
   ]
  },
  {
   "cell_type": "code",
   "execution_count": null,
   "metadata": {},
   "outputs": [],
   "source": [
    "from sqlalchemy import create_engine\n",
    "import pandas as pd"
   ]
  },
  {
   "cell_type": "code",
   "execution_count": null,
   "metadata": {},
   "outputs": [],
   "source": [
    "from sklearn.model_selection import train_test_split"
   ]
  },
  {
   "cell_type": "markdown",
   "metadata": {},
   "source": [
    "**1. Bring in data**"
   ]
  },
  {
   "cell_type": "code",
   "execution_count": null,
   "metadata": {},
   "outputs": [],
   "source": [
    "sbdf=pd.read_csv(r'../data/clean/sbdf_clean.csv')\n",
    "sbdf.head(3)"
   ]
  },
  {
   "cell_type": "markdown",
   "metadata": {},
   "source": [
    "**remove rows below 1960**"
   ]
  },
  {
   "cell_type": "code",
   "execution_count": null,
   "metadata": {},
   "outputs": [],
   "source": [
    "#sbdf = sbdf[sbdf['year'] >= 1960] "
   ]
  },
  {
   "cell_type": "code",
   "execution_count": null,
   "metadata": {},
   "outputs": [],
   "source": [
    "sbdf.columns = map(str.lower, sbdf.columns)"
   ]
  },
  {
   "cell_type": "code",
   "execution_count": null,
   "metadata": {},
   "outputs": [],
   "source": [
    "sbdf['decade'] = (sbdf.year//10*10).astype(int)\n",
    "sbdf['year'] = sbdf.year.astype(int)"
   ]
  },
  {
   "cell_type": "code",
   "execution_count": null,
   "metadata": {},
   "outputs": [],
   "source": [
    "sbdf.decade.value_counts()"
   ]
  },
  {
   "cell_type": "code",
   "execution_count": null,
   "metadata": {},
   "outputs": [],
   "source": [
    "sbdf = sbdf[sbdf['year'] >= 1990] "
   ]
  },
  {
   "cell_type": "code",
   "execution_count": null,
   "metadata": {},
   "outputs": [],
   "source": [
    "sbdf.info()"
   ]
  },
  {
   "cell_type": "code",
   "execution_count": null,
   "metadata": {},
   "outputs": [],
   "source": [
    "sbdf['track_seconds'] = sbdf['duration_ms'] / 1000"
   ]
  },
  {
   "cell_type": "markdown",
   "metadata": {},
   "source": [
    "## EDA "
   ]
  },
  {
   "cell_type": "code",
   "execution_count": null,
   "metadata": {},
   "outputs": [],
   "source": [
    "# This will help with plotting. Look up Pandas.Categorical for more methods ...\n",
    "sbdf.loc[:, 'is_hit'] = sbdf['is_hit'].astype('category')"
   ]
  },
  {
   "cell_type": "markdown",
   "metadata": {},
   "source": [
    "Our goal is to predict whether or not the song is a hit or not. For the sake of simplicity, we'll split the data once, between a train set and a test set. *Of course, in practice, you'll want to cross validate with multiple splits of the data.*"
   ]
  },
  {
   "cell_type": "markdown",
   "metadata": {},
   "source": [
    "**May not need to split for EDA**"
   ]
  },
  {
   "cell_type": "code",
   "execution_count": null,
   "metadata": {},
   "outputs": [],
   "source": [
    "df_sample = sbdf.drop(['spotifyid','duration_ms'],\n",
    "                     axis=1) \\\n",
    "               .sample(1000, random_state=44)\n",
    "\n",
    "df_sample.shape\n"
   ]
  },
  {
   "cell_type": "code",
   "execution_count": null,
   "metadata": {},
   "outputs": [],
   "source": [
    "df_sample.decade.value_counts()"
   ]
  },
  {
   "cell_type": "code",
   "execution_count": null,
   "metadata": {
    "scrolled": true
   },
   "outputs": [],
   "source": [
    "# We want to pick one feature to start that separates the two cases.\n",
    "sns.pairplot(df_sample,  height=1.5, plot_kws={'size': 3}, hue='is_hit');\n",
    "plt.savefig('pairplot_ishit.png')\n"
   ]
  },
  {
   "cell_type": "markdown",
   "metadata": {},
   "source": [
    "**Histogram of hits**"
   ]
  },
  {
   "cell_type": "code",
   "execution_count": null,
   "metadata": {},
   "outputs": [],
   "source": [
    "sns.countplot(x='is_hit',data=sbdf)\n",
    "plt.title('Song is a hit (Target)')\n",
    "plt.savefig('target_hist.pdf')\n",
    "plt.show()"
   ]
  },
  {
   "cell_type": "code",
   "execution_count": null,
   "metadata": {},
   "outputs": [],
   "source": [
    "plt.stem(sbdf['is_hit'])\n",
    "plt.xlim(0, 1.2)\n",
    "plt.show()"
   ]
  },
  {
   "cell_type": "markdown",
   "metadata": {},
   "source": [
    "**Box: Time**"
   ]
  },
  {
   "cell_type": "code",
   "execution_count": null,
   "metadata": {},
   "outputs": [],
   "source": [
    "test=sbdf[sbdf['track_seconds']>3000]"
   ]
  },
  {
   "cell_type": "code",
   "execution_count": null,
   "metadata": {},
   "outputs": [],
   "source": [
    "sns.color_palette(\"light:b\", as_cmap=True)\n",
    "sns.catplot(data=sbdf,x='is_hit',y='track_seconds',kind='box')\n",
    "plt.title('Track Seconds')\n",
    "plt.xlabel('Is Hit')\n",
    "plt.ylabel('Track Seconds')\n",
    "plt.tight_layout()\n",
    "plt.savefig('time_box.pdf',dpi=20)"
   ]
  },
  {
   "cell_type": "markdown",
   "metadata": {},
   "source": [
    "**Box: Loudness**"
   ]
  },
  {
   "cell_type": "code",
   "execution_count": null,
   "metadata": {},
   "outputs": [],
   "source": [
    "sns.color_palette(\"light:b\", as_cmap=True)\n",
    "sns.catplot(data=sbdf,x='is_hit',y='loudness',kind='box')\n",
    "plt.title('Loudness')\n",
    "plt.xlabel('Is Hit')\n",
    "plt.ylabel('Loudness')\n",
    "plt.tight_layout()\n",
    "plt.savefig('loud_box.pdf')"
   ]
  },
  {
   "cell_type": "markdown",
   "metadata": {},
   "source": [
    "**Box: Valence**"
   ]
  },
  {
   "cell_type": "code",
   "execution_count": null,
   "metadata": {},
   "outputs": [],
   "source": [
    "sns.color_palette(\"light:b\", as_cmap=True)\n",
    "sns.catplot(data=sbdf,x='is_hit',y='valence',kind='box')\n",
    "plt.title('Valence')\n",
    "plt.xlabel('Is Hit')\n",
    "plt.ylabel('Valence')\n",
    "plt.tight_layout()\n",
    "plt.savefig('valence_box.pdf')"
   ]
  },
  {
   "cell_type": "markdown",
   "metadata": {},
   "source": [
    "**Box: Acousticness**"
   ]
  },
  {
   "cell_type": "code",
   "execution_count": null,
   "metadata": {},
   "outputs": [],
   "source": [
    "sns.color_palette(\"light:b\", as_cmap=True)\n",
    "sns.catplot(data=sbdf,x='is_hit',y='acousticness',kind='box')\n",
    "plt.title('Acousticness')\n",
    "plt.xlabel('Is Hit')\n",
    "plt.ylabel('Acousticness')\n",
    "plt.tight_layout()\n",
    "plt.savefig('acoustics_box.pdf')"
   ]
  },
  {
   "cell_type": "markdown",
   "metadata": {},
   "source": [
    "**Box: Popularity**"
   ]
  },
  {
   "cell_type": "code",
   "execution_count": null,
   "metadata": {},
   "outputs": [],
   "source": [
    "# sns.color_palette(\"light:b\", as_cmap=True)\n",
    "# sns.catplot(data=sbdf,x='is_hit',y='spotify_track_popularity',kind='box')\n",
    "# plt.xlabel('Is Hit')\n",
    "# plt.ylabel('Song popularity')\n",
    "# plt.savefig('popularity_box.png')"
   ]
  },
  {
   "cell_type": "markdown",
   "metadata": {},
   "source": [
    "**Box: Danceability**"
   ]
  },
  {
   "cell_type": "code",
   "execution_count": null,
   "metadata": {},
   "outputs": [],
   "source": [
    "sns.color_palette(\"light:b\", as_cmap=True)\n",
    "sns.catplot(data=sbdf,x='is_hit',y='danceability',kind='box')\n",
    "plt.title('Danceability')\n",
    "plt.xlabel('Is Hit')\n",
    "plt.ylabel('Danceability')\n",
    "plt.tight_layout()\n",
    "plt.savefig('dance_box.pdf')"
   ]
  },
  {
   "cell_type": "markdown",
   "metadata": {},
   "source": [
    "**Box: Energy**"
   ]
  },
  {
   "cell_type": "code",
   "execution_count": null,
   "metadata": {},
   "outputs": [],
   "source": [
    "sns.color_palette(\"light:b\", as_cmap=True)\n",
    "sns.catplot(data=sbdf,x='is_hit',y='energy',kind='box')\n",
    "plt.title('Energy')\n",
    "plt.xlabel('Is Hit')\n",
    "plt.ylabel('Energy')\n",
    "plt.tight_layout()\n",
    "plt.savefig('energy_box.pdf')"
   ]
  },
  {
   "cell_type": "markdown",
   "metadata": {},
   "source": [
    "**Box: mode**"
   ]
  },
  {
   "cell_type": "code",
   "execution_count": null,
   "metadata": {},
   "outputs": [],
   "source": [
    "sns.barplot(x='is_hit',y='mode',data=sbdf)\n",
    "plt.title('Mode')\n",
    "plt.tight_layout()\n",
    "#g.set(xscale=\"log\")\n",
    "plt.savefig('mode_cat.pdf')"
   ]
  },
  {
   "cell_type": "code",
   "execution_count": null,
   "metadata": {},
   "outputs": [],
   "source": [
    "sns.color_palette(\"light:b\", as_cmap=True)\n",
    "sns.catplot(data=bbdf,x='decade',y='mode',kind='box')\n",
    "plt.xlabel('Decade')\n",
    "plt.ylabel('Mode')\n",
    "plt.savefig('mode_box.png')"
   ]
  },
  {
   "cell_type": "code",
   "execution_count": null,
   "metadata": {},
   "outputs": [],
   "source": [
    "features = ['speechiness','liveness','tempo', 'energy', 'acousticness', 'loudness','danceability','mode','key','valence','track_seconds','instrumentalness']"
   ]
  },
  {
   "cell_type": "code",
   "execution_count": null,
   "metadata": {},
   "outputs": [],
   "source": [
    "import matplotlib.pyplot as plt\n",
    "%matplotlib inline\n",
    "\n",
    "plt.figure(figsize=(12,10))\n",
    "\n",
    "for i, c in enumerate(features, 1):\n",
    "    plt.subplot(4,3,i) \n",
    "    g = sns.boxplot(x='is_hit', y=c,data=sbdf)\n",
    "    #g.axes.set_title(fontsize=10)\n",
    "    g.set_xlabel('Is Hit',fontsize=10)\n",
    "    g.set_ylabel(c,fontsize=10)\n",
    "    g.tick_params(labelsize=8)    \n",
    "    plt.savefig('edaboxplots.pdf',bbox_inches='tight')\n",
    "    #plt.savefig('edaboxplots.png')\n",
    "    #sns.plt.show()"
   ]
  },
  {
   "cell_type": "markdown",
   "metadata": {},
   "source": [
    "**radar graph**"
   ]
  },
  {
   "cell_type": "code",
   "execution_count": null,
   "metadata": {},
   "outputs": [],
   "source": [
    "print(feathits)"
   ]
  },
  {
   "cell_type": "code",
   "execution_count": null,
   "metadata": {},
   "outputs": [],
   "source": [
    "sbdf.describe()"
   ]
  },
  {
   "cell_type": "code",
   "execution_count": null,
   "metadata": {},
   "outputs": [],
   "source": [
    "feathits=pd.DataFrame()\n",
    "feathits = sbdf.loc[sbdf['is_hit'] == 1]\n",
    "print(feathits.is_hit.value_counts())\n",
    "feathits = feathits[['acousticness',   'instrumentalness', 'tempo', 'speechiness', 'valence','energy','liveness','danceability','track_seconds','loudness']]# ,'track_seconds','loudness']]\n",
    "feathits['loudness'] = abs(feathits['loudness'])\n",
    "\n",
    "# from sklearn.preprocessing import MinMaxScaler\n",
    "# min_max_scaler = MinMaxScaler()\n",
    "# feathits.loc[:]=min_max_scaler.fit_transform(feathits.loc[:])\n",
    "\n",
    "\n",
    "featnonhits=pd.DataFrame()\n",
    "featnonhits = sbdf.loc[sbdf['is_hit'] == 0]\n",
    "print(featnonhits.is_hit.value_counts())\n",
    "featnonhits = featnonhits[['acousticness',   'instrumentalness', 'tempo', 'speechiness', 'valence','energy','liveness','danceability','track_seconds','loudness']]# ,'track_seconds','loudness']]\n",
    "featnonhits['loudness'] = abs(featnonhits['loudness'])\n",
    "\n",
    "# from sklearn.preprocessing import MinMaxScaler\n",
    "# min_max_scaler = MinMaxScaler()\n",
    "# featnonhits.loc[:]=min_max_scaler.fit_transform(featnonhits.loc[:])\n",
    "\n",
    "\n",
    "# featnonhits=pd.DataFrame()\n",
    "# featnonhits = sbdf.loc[sbdf['is_hit'] == 0]\n",
    "# featnonhits = featnonhits[['acousticness', 'danceability', 'energy', 'instrumentalness', 'tempo', 'speechiness', 'valence','liveness','speechiness','track_seconds']]\n"
   ]
  },
  {
   "cell_type": "code",
   "execution_count": null,
   "metadata": {},
   "outputs": [],
   "source": [
    "feathits.describe()"
   ]
  },
  {
   "cell_type": "code",
   "execution_count": null,
   "metadata": {},
   "outputs": [],
   "source": [
    "featnonhits.describe()"
   ]
  },
  {
   "cell_type": "code",
   "execution_count": null,
   "metadata": {},
   "outputs": [],
   "source": [
    "import math \n",
    "# plot size\n",
    "#fig=plt.figure(figsize=(12,8))\n",
    "\n",
    "# convert column names into a list\n",
    "categories=list(feathits.columns)\n",
    "# number of categories\n",
    "N=len(categories)\n",
    "\n",
    "# create a list with the average of all features\n",
    "value = list(feathits.mean())\n",
    "value2 = list(featnonhits.mean())\n",
    "\n",
    "# tempo - scaled\n",
    "value[2] = value[2]/220\n",
    "value2[2] = value2[2]/220\n",
    "\n",
    "#speech - scaled\n",
    "value[3] = value[3]*1.5\n",
    "value2[3] = value2[3]*1.5\n",
    "\n",
    "# inst - scaled\n",
    "value[1] = value[1]*1.5\n",
    "value2[1] = value2[1]*1.5\n",
    "\n",
    "# loudness - scaled\n",
    "value[9] = value[9]/25\n",
    "value2[9] = value2[9]/25\n",
    "\n",
    "\n",
    "# time - scaled\n",
    "value[8] = value[8]/400\n",
    "value2[8] = value2[8]/400\n",
    "\n",
    "\n",
    "# repeat first value to close the circle\n",
    "# the plot is a circle, so we need to \"complete the loop\"\n",
    "# and append the start value to the end.\n",
    "value+=value[:1]\n",
    "value2+=value2[:1]\n",
    "\n",
    "# calculate angle for each category\n",
    "angles=[n/float(N)*2*math.pi for n in range(N)]\n",
    "angles+=angles[:1]\n",
    "\n",
    "# plot\n",
    "fig=plt.figure(figsize = (18,18))\n",
    "\n",
    "ax = fig.add_subplot(221, polar=True)\n",
    "\n",
    "#plot 1 hits\n",
    "ax.plot(angles, value,  linewidth=2, label = \"Hit\", color= 'slategray')\n",
    "ax.fill(angles, value, alpha=0.35, facecolor='slategray')\n",
    "\n",
    "#plot 2 non-hits\n",
    "ax.plot(angles, value2, linewidth=2, label = \"Non-Hit\", color = 'darkorange')\n",
    "ax.fill(angles, value2, alpha=0.15, facecolor='darkorange' )\n",
    "#ax.set_title('Mean Values of the audio features')\n",
    "ax.grid(True)\n",
    "\n",
    "# plt.polar(angles, value,label='hit')\n",
    "# plt.fill(angles,value,alpha=0.3)\n",
    "\n",
    "# plt.polar(angles, value2,label='non-hit',color='m')\n",
    "# plt.fill(angles,value2,alpha=0.3,facecolor='m')\n",
    "\n",
    "# plt.title('Discovery Weekly Songs Audio Features', size=35)\n",
    "\n",
    "# Add legend\n",
    "plt.legend(loc='upper right', bbox_to_anchor=(0.1, 0.1),fontsize=16)\n",
    "\n",
    "plt.xticks(angles[:-1],categories, size=14)\n",
    "plt.yticks(color='grey',size=16)\n",
    "\n",
    "# Create a color palette:\n",
    "plt.cm.get_cmap(\"Set2\", len(feathits.index))\n",
    "plt.savefig('radar_hit_compare.pdf')\n",
    "plt.show()\n"
   ]
  },
  {
   "cell_type": "markdown",
   "metadata": {},
   "source": [
    "**Violin plots**"
   ]
  },
  {
   "cell_type": "code",
   "execution_count": null,
   "metadata": {},
   "outputs": [],
   "source": [
    "import matplotlib.pyplot as plt\n",
    "%matplotlib inline\n",
    "\n",
    "plt.figure(figsize=(12,10))\n",
    "\n",
    "for i, c in enumerate(features, 1):\n",
    "    plt.subplot(4,3,i) \n",
    "    g = sns.violinplot(x='is_hit', y=c,data=sbdf, palette=['darkorange','slategray'],alpha=0.15,as_cmap=True) #, palette='crest' )  #RdYlBu\n",
    "    \n",
    "    g.set_alpha(0.25)\n",
    "    #sns.diverging_palette(220,20,as_cmap=True)\n",
    "    #g.axes.set_title(fontsize=10)\n",
    "    g.set_xlabel('Is Hit',fontsize=10)\n",
    "    g.set_ylabel(c,fontsize=10)\n",
    "    g.tick_params(labelsize=8)    \n",
    "    plt.grid(b=None)\n",
    "    plt.cm.get_cmap(\"Set3\")\n",
    "    plt.savefig('edavioplots.pdf',bbox_inches='tight')\n",
    "    #plt.savefig('edaboxplots.png')\n",
    "#    sns.plt.show()"
   ]
  },
  {
   "cell_type": "code",
   "execution_count": null,
   "metadata": {},
   "outputs": [],
   "source": [
    "sns.color_palette(\"Set2\", as_cmap=True) #light:b\n",
    "g = sns.violinplot(x='is_hit', y='energy',data=sbdf, palette='RdYlBu',as_cmap=True) #, palette='crest' )\n",
    "   #sns.diverging_palette(220,20,as_cmap=True)\n",
    "#g.axes.set_title(fontsize=10)\n",
    "g.set_xlabel('Is Hit',fontsize=12)\n",
    "g.set_ylabel('Energy',fontsize=12)\n",
    "g.tick_params(labelsize=8)    \n",
    "#plt.grid(b=None)\n",
    "plt.savefig('energy_violin.pdf')"
   ]
  },
  {
   "cell_type": "code",
   "execution_count": null,
   "metadata": {},
   "outputs": [],
   "source": [
    "g = sns.violinplot(x='is_hit', y='danceability',data=sbdf, palette='RdYlBu',as_cmap=True) #, palette='crest' )\n",
    "   #sns.diverging_palette(220,20,as_cmap=True)\n",
    "#g.axes.set_title(fontsize=10)\n",
    "g.set_xlabel('Is Hit',fontsize=16)\n",
    "g.set_ylabel('Danceability',fontsize=16)\n",
    "g.tick_params(labelsize=16)    \n",
    "plt.grid(b=None)\n",
    "plt.tight_layout()\n",
    "plt.savefig('dance_violin.pdf')"
   ]
  },
  {
   "cell_type": "code",
   "execution_count": null,
   "metadata": {},
   "outputs": [],
   "source": [
    "g = sns.violinplot(x='is_hit', y='speechiness',data=sbdf, palette='RdYlBu',as_cmap=True) #, palette='crest' )\n",
    "   #sns.diverging_palette(220,20,as_cmap=True)\n",
    "#g.axes.set_title(fontsize=10)\n",
    "g.set_xlabel('Is Hit',fontsize=16)\n",
    "g.set_ylabel('Speechiness',fontsize=16)\n",
    "g.tick_params(labelsize=16)    \n",
    "plt.grid(b=None)\n",
    "plt.tight_layout()\n",
    "plt.savefig('speechiness_violin.pdf')"
   ]
  },
  {
   "cell_type": "code",
   "execution_count": null,
   "metadata": {},
   "outputs": [],
   "source": [
    "g = sns.violinplot(x='is_hit', y='loudness',data=sbdf, palette=['darkorange','steelblue'],as_cmap=True) #, palette='crest' )\n",
    "   #sns.diverging_palette(220,20,as_cmap=True)\n",
    "#g.axes.set_title(fontsize=10)\n",
    "g.set_xlabel('Is Hit',fontsize=16)\n",
    "g.set_ylabel('Loudness',fontsize=16)\n",
    "g.tick_params(labelsize=16)    \n",
    "#plt.grid(b=None)\n",
    "plt.tight_layout()\n",
    "plt.savefig('loudness_violin.pdf')"
   ]
  },
  {
   "cell_type": "code",
   "execution_count": null,
   "metadata": {},
   "outputs": [],
   "source": [
    "g = sns.violinplot(x='is_hit', y='tempo',data=sbdf, palette='RdYlBu',as_cmap=True) #, palette='crest' )\n",
    "   #sns.diverging_palette(220,20,as_cmap=True)\n",
    "#g.axes.set_title(fontsize=10)\n",
    "g.set_xlabel('Is Hit',fontsize=10)\n",
    "g.set_ylabel('Tempo',fontsize=10)\n",
    "g.tick_params(labelsize=8) \n",
    "plt.grid(b=None)\n",
    "plt.savefig('tempo_violin.pdf')"
   ]
  },
  {
   "cell_type": "code",
   "execution_count": null,
   "metadata": {},
   "outputs": [],
   "source": [
    "g = sns.violinplot(x='is_hit', y='valence',data=sbdf, palette='RdYlBu',as_cmap=True) #, palette='crest' )\n",
    "   #sns.diverging_palette(220,20,as_cmap=True)\n",
    "#g.axes.set_title(fontsize=10)\n",
    "g.set_xlabel('Is Hit',fontsize=10)\n",
    "g.set_ylabel('Valence',fontsize=10)\n",
    "g.tick_params(labelsize=8)    \n",
    "plt.grid(b=None)\n",
    "plt.savefig('valence_violin.pdf')"
   ]
  },
  {
   "cell_type": "code",
   "execution_count": null,
   "metadata": {},
   "outputs": [],
   "source": [
    "g = sns.violinplot(x='is_hit', y='acousticness',data=sbdf, palette=['darkorange','steelblue'],as_cmap=True) #, palette='crest' )\n",
    "   #sns.diverging_palette(220,20,as_cmap=True)\n",
    "#g.axes.set_title(fontsize=10)\n",
    "g.set_xlabel('Is Hit',fontsize=16)\n",
    "g.set_ylabel('Acousticness',fontsize=16)\n",
    "g.tick_params(labelsize=16)    \n",
    "#plt.grid(b=None)\n",
    "plt.tight_layout()\n",
    "plt.savefig('acousticness_violin.pdf')"
   ]
  },
  {
   "cell_type": "code",
   "execution_count": null,
   "metadata": {},
   "outputs": [],
   "source": [
    "g = sns.violinplot(x='is_hit', y='track_seconds',data=sbdf, palette='RdYlBu',as_cmap=True) #, palette='crest' )\n",
    "   #sns.diverging_palette(220,20,as_cmap=True)\n",
    "#g.axes.set_title(fontsize=10)\n",
    "g.set_xlabel('Is Hit',fontsize=12)\n",
    "g.set_ylabel('Track Seconds',fontsize=12)\n",
    "g.tick_params(labelsize=8)    \n",
    "plt.grid(b=None)\n",
    "plt.savefig('track_seconds_violin.pdf')"
   ]
  },
  {
   "cell_type": "code",
   "execution_count": null,
   "metadata": {},
   "outputs": [],
   "source": [
    "g = sns.violinplot(x='is_hit', y='key',data=sbdf, palette='RdYlBu',as_cmap=True) #, palette='crest' )\n",
    "   #sns.diverging_palette(220,20,as_cmap=True)\n",
    "#g.axes.set_title(fontsize=10)\n",
    "g.set_xlabel('Is Hit',fontsize=10)\n",
    "g.set_ylabel(c,fontsize=10)\n",
    "g.tick_params(labelsize=8)    \n",
    "plt.grid(b=None)\n",
    "plt.savefig('key_violin.pdf')"
   ]
  },
  {
   "cell_type": "code",
   "execution_count": null,
   "metadata": {},
   "outputs": [],
   "source": [
    "g = sns.violinplot(x='is_hit', y='mode',data=sbdf, palette='RdYlBu',as_cmap=True) #, palette='crest' )\n",
    "   #sns.diverging_palette(220,20,as_cmap=True)\n",
    "#g.axes.set_title(fontsize=10)\n",
    "g.set_xlabel('Is Hit',fontsize=10)\n",
    "g.set_ylabel('Mode',fontsize=10)\n",
    "g.tick_params(labelsize=8)   \n",
    "plt.grid(b=None)\n",
    "plt.savefig('mode_violin.pdf')"
   ]
  },
  {
   "cell_type": "code",
   "execution_count": null,
   "metadata": {},
   "outputs": [],
   "source": [
    "g = sns.violinplot(x='is_hit', y='instrumentalness',data=sbdf, palette=['darkorange','steelblue'],as_cmap=True) #, palette='crest' )\n",
    "   #sns.diverging_palette(220,20,as_cmap=True)\n",
    "#g.axes.set_title(fontsize=10)\n",
    "g.set_xlabel('Is Hit',fontsize=16)\n",
    "g.set_ylabel('Instrumentalness',fontsize=16)\n",
    "g.tick_params(labelsize=16)   \n",
    "#plt.grid(b=None)\n",
    "plt.tight_layout()\n",
    "plt.savefig('inst_violin.pdf')"
   ]
  },
  {
   "cell_type": "markdown",
   "metadata": {},
   "source": [
    "**Check for correlated variables**"
   ]
  },
  {
   "cell_type": "code",
   "execution_count": null,
   "metadata": {},
   "outputs": [],
   "source": [
    "df_corr = sbdf.corr()"
   ]
  },
  {
   "cell_type": "code",
   "execution_count": null,
   "metadata": {},
   "outputs": [],
   "source": [
    "f, ax = plt.subplots(figsize=(7, 7))\n",
    "sns.heatmap(df_corr,  annot=False ,linewidths=.5, ax=ax ) ,\n",
    "plt.tight_layout()\n",
    "plt.savefig('corrheatmap.png')"
   ]
  },
  {
   "cell_type": "code",
   "execution_count": null,
   "metadata": {},
   "outputs": [],
   "source": [
    "sbdf.describe()"
   ]
  },
  {
   "cell_type": "code",
   "execution_count": null,
   "metadata": {},
   "outputs": [],
   "source": []
  },
  {
   "cell_type": "code",
   "execution_count": null,
   "metadata": {},
   "outputs": [],
   "source": []
  },
  {
   "cell_type": "code",
   "execution_count": null,
   "metadata": {},
   "outputs": [],
   "source": []
  },
  {
   "cell_type": "code",
   "execution_count": null,
   "metadata": {},
   "outputs": [],
   "source": []
  }
 ],
 "metadata": {
  "kernelspec": {
   "display_name": "Python 3",
   "language": "python",
   "name": "python3"
  },
  "language_info": {
   "codemirror_mode": {
    "name": "ipython",
    "version": 3
   },
   "file_extension": ".py",
   "mimetype": "text/x-python",
   "name": "python",
   "nbconvert_exporter": "python",
   "pygments_lexer": "ipython3",
   "version": "3.8.5"
  }
 },
 "nbformat": 4,
 "nbformat_minor": 4
}
